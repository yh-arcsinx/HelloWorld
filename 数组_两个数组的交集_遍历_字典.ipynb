{
  "nbformat": 4,
  "nbformat_minor": 0,
  "metadata": {
    "colab": {
      "name": "数组.两个数组的交集.遍历/字典.ipynb",
      "provenance": [],
      "collapsed_sections": [],
      "authorship_tag": "ABX9TyNzxkiUcKMOoJF3Hj0lirQQ",
      "include_colab_link": true
    },
    "kernelspec": {
      "name": "python3",
      "display_name": "Python 3"
    },
    "language_info": {
      "name": "python"
    }
  },
  "cells": [
    {
      "cell_type": "markdown",
      "metadata": {
        "id": "view-in-github",
        "colab_type": "text"
      },
      "source": [
        "<a href=\"https://colab.research.google.com/github/yh-arcsinx/Primary-Algorithm/blob/master/%E6%95%B0%E7%BB%84_%E4%B8%A4%E4%B8%AA%E6%95%B0%E7%BB%84%E7%9A%84%E4%BA%A4%E9%9B%86_%E9%81%8D%E5%8E%86_%E5%AD%97%E5%85%B8.ipynb\" target=\"_parent\"><img src=\"https://colab.research.google.com/assets/colab-badge.svg\" alt=\"Open In Colab\"/></a>"
      ]
    },
    {
      "cell_type": "code",
      "metadata": {
        "id": "ifMW7QAMmzNE"
      },
      "source": [
        "from typing import List"
      ],
      "execution_count": 5,
      "outputs": []
    },
    {
      "cell_type": "code",
      "metadata": {
        "id": "YiQUVuc-meX0"
      },
      "source": [
        "class Solution:\n",
        "    def intersect(self, nums1: List[int], nums2: List[int]) -> List[int]:\n",
        "        x = []\n",
        "        for i in range(len(nums1)):\n",
        "            \n",
        "            if nums1[i] in nums2:\n",
        "                x = x + [nums1[i]]\n",
        "                nums2.remove(nums1[i])\n",
        "        return x"
      ],
      "execution_count": null,
      "outputs": []
    },
    {
      "cell_type": "code",
      "metadata": {
        "colab": {
          "base_uri": "https://localhost:8080/"
        },
        "id": "TaEjYhPknXWn",
        "outputId": "009c36a2-2ca3-4d2a-9792-4689fad9a6a0"
      },
      "source": [
        "s=Solution()\n",
        "print(s.intersect(nums1 = [1,2,2,1], nums2 = [2,2]))\n"
      ],
      "execution_count": 13,
      "outputs": [
        {
          "output_type": "stream",
          "text": [
            "[2, 2]\n"
          ],
          "name": "stdout"
        }
      ]
    },
    {
      "cell_type": "code",
      "metadata": {
        "id": "Q6PR1-J0pyFV"
      },
      "source": [
        "class Solution:\n",
        "    def intersect(self, nums1: List[int], nums2: List[int]) -> List[int]:\n",
        "        map1=dict()\n",
        "        a = []\n",
        "        for i in range(len(nums1)):\n",
        "            \n",
        "            if nums1[i] not in map1:\n",
        "                map1[nums1[i]]= 1\n",
        "            else:\n",
        "                map1[nums1[i]]=map1[nums1[i]]+1\n",
        "            \n",
        "        for j in range(len(nums2)):    \n",
        "            if nums2[j] in map1:\n",
        "                map1[nums2[j]]= map1[nums2[j]]-1\n",
        "                a.append(nums2[j])\n",
        "                if map1[nums2[j]] == 0:\n",
        "                    map1.pop(nums2[j])\n",
        "                \n",
        "\n",
        "        return a"
      ],
      "execution_count": 12,
      "outputs": []
    },
    {
      "cell_type": "code",
      "metadata": {
        "colab": {
          "base_uri": "https://localhost:8080/"
        },
        "id": "YMftOx7DqHcs",
        "outputId": "87c05999-441b-4747-b349-d9a1a271479d"
      },
      "source": [
        "map =dict()\n",
        "map[123] = 123\n",
        "if 123 in map:\n",
        "    print(1)\n",
        "map[123]"
      ],
      "execution_count": null,
      "outputs": [
        {
          "output_type": "stream",
          "text": [
            "1\n"
          ],
          "name": "stdout"
        },
        {
          "output_type": "execute_result",
          "data": {
            "text/plain": [
              "123"
            ]
          },
          "metadata": {
            "tags": []
          },
          "execution_count": 24
        }
      ]
    },
    {
      "cell_type": "code",
      "metadata": {
        "id": "r-2tWTPiqK65"
      },
      "source": [
        "x=[]"
      ],
      "execution_count": null,
      "outputs": []
    },
    {
      "cell_type": "code",
      "metadata": {
        "colab": {
          "base_uri": "https://localhost:8080/"
        },
        "id": "CSnTGGGiqY47",
        "outputId": "238d6611-7bbb-4398-e183-df74f9f4e653"
      },
      "source": [
        "type(x)"
      ],
      "execution_count": null,
      "outputs": [
        {
          "output_type": "execute_result",
          "data": {
            "text/plain": [
              "list"
            ]
          },
          "metadata": {
            "tags": []
          },
          "execution_count": 10
        }
      ]
    },
    {
      "cell_type": "code",
      "metadata": {
        "id": "aLYW5CdvqaNM"
      },
      "source": [
        "x.remove(1)"
      ],
      "execution_count": null,
      "outputs": []
    },
    {
      "cell_type": "code",
      "metadata": {
        "colab": {
          "base_uri": "https://localhost:8080/"
        },
        "id": "IP7F3V2cyN9d",
        "outputId": "907b5989-46ec-4ab0-be12-9423f68dfddb"
      },
      "source": [
        "x"
      ],
      "execution_count": null,
      "outputs": [
        {
          "output_type": "execute_result",
          "data": {
            "text/plain": [
              "[1]"
            ]
          },
          "metadata": {
            "tags": []
          },
          "execution_count": 19
        }
      ]
    },
    {
      "cell_type": "code",
      "metadata": {
        "id": "vB3esRLEyPDD"
      },
      "source": [
        ""
      ],
      "execution_count": null,
      "outputs": []
    }
  ]
}