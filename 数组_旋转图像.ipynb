{
  "nbformat": 4,
  "nbformat_minor": 0,
  "metadata": {
    "colab": {
      "name": "数组.旋转图像.ipynb",
      "provenance": [],
      "collapsed_sections": [],
      "authorship_tag": "ABX9TyPWY+FvwbA6ELrh5qiz6nVf",
      "include_colab_link": true
    },
    "kernelspec": {
      "name": "python3",
      "display_name": "Python 3"
    },
    "language_info": {
      "name": "python"
    }
  },
  "cells": [
    {
      "cell_type": "markdown",
      "metadata": {
        "id": "view-in-github",
        "colab_type": "text"
      },
      "source": [
        "<a href=\"https://colab.research.google.com/github/yh-arcsinx/Primary-Algorithm/blob/master/%E6%95%B0%E7%BB%84_%E6%97%8B%E8%BD%AC%E5%9B%BE%E5%83%8F.ipynb\" target=\"_parent\"><img src=\"https://colab.research.google.com/assets/colab-badge.svg\" alt=\"Open In Colab\"/></a>"
      ]
    },
    {
      "cell_type": "code",
      "metadata": {
        "id": "-fNUd8fc2xic"
      },
      "source": [
        "from typing import List"
      ],
      "execution_count": 1,
      "outputs": []
    },
    {
      "cell_type": "code",
      "metadata": {
        "id": "v_NzoE6D3Hxh"
      },
      "source": [
        "class Solution:\n",
        "    def rotate(self, matrix: List[List[int]]) -> None:\n",
        "        \"\"\"\n",
        "        Do not return anything, modify matrix in-place instead.\n",
        "        \"\"\"\n",
        "        a = len(matrix)//2\n",
        "        for i in range(a):\n",
        "            matrix[i],matrix[len(matrix)-i-1] = matrix[len(matrix)-i-1],matrix[i]\n",
        "        for i in range(len(matrix)):\n",
        "            for j in range(i+1,len(matrix)):\n",
        "                matrix[i][j],matrix[j][i]=matrix[j][i],matrix[i][j]\n",
        "        return matrix\n"
      ],
      "execution_count": 3,
      "outputs": []
    },
    {
      "cell_type": "code",
      "metadata": {
        "id": "lvZ_N2wZ3OmG"
      },
      "source": [
        ""
      ],
      "execution_count": null,
      "outputs": []
    }
  ]
}