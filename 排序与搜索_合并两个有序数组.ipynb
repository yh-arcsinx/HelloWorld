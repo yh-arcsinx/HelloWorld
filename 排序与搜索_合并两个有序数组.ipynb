{
  "nbformat": 4,
  "nbformat_minor": 0,
  "metadata": {
    "colab": {
      "name": "排序与搜索.合并两个有序数组.ipynb",
      "provenance": [],
      "collapsed_sections": [],
      "authorship_tag": "ABX9TyOg4fgxt5YPH5p9NPta/vpn",
      "include_colab_link": true
    },
    "kernelspec": {
      "name": "python3",
      "display_name": "Python 3"
    },
    "language_info": {
      "name": "python"
    }
  },
  "cells": [
    {
      "cell_type": "markdown",
      "metadata": {
        "id": "view-in-github",
        "colab_type": "text"
      },
      "source": [
        "<a href=\"https://colab.research.google.com/github/yh-arcsinx/Primary-Algorithm/blob/master/%E6%8E%92%E5%BA%8F%E4%B8%8E%E6%90%9C%E7%B4%A2_%E5%90%88%E5%B9%B6%E4%B8%A4%E4%B8%AA%E6%9C%89%E5%BA%8F%E6%95%B0%E7%BB%84.ipynb\" target=\"_parent\"><img src=\"https://colab.research.google.com/assets/colab-badge.svg\" alt=\"Open In Colab\"/></a>"
      ]
    },
    {
      "cell_type": "code",
      "metadata": {
        "id": "ixQZlhBbh06P"
      },
      "source": [
        "from typing import List"
      ],
      "execution_count": 6,
      "outputs": []
    },
    {
      "cell_type": "code",
      "metadata": {
        "id": "sLx_zEr3gzJ3"
      },
      "source": [
        "class Solution:\n",
        "    def merge(self, nums1: List[int], m: int, nums2: List[int], n: int) -> None:\n",
        "        \"\"\"\n",
        "        Do not return anything, modify nums1 in-place instead.\n",
        "        \"\"\"\n",
        "        if not n:\n",
        "            return None\n",
        "        if not m:\n",
        "            nums1[:]=nums2\n",
        "            return None\n",
        "        j=0\n",
        "        for i in range(m):\n",
        "            while j<n and nums1[i+j]>=nums2[j]:\n",
        "                print(\"i\",i)\n",
        "                print(\"j\",j)\n",
        "                nums1.insert(i+j,nums2[j])\n",
        "                j+=1\n",
        "            if j ==n:\n",
        "                nums1[:]=nums1[:m+n]\n",
        "                return None \n",
        "        nums1[:]=nums1[:i+j+1]+nums2[j:]\n",
        "        return None"
      ],
      "execution_count": 13,
      "outputs": []
    },
    {
      "cell_type": "code",
      "metadata": {
        "id": "9uBw5HK4oUNi"
      },
      "source": [
        "class Solution:\n",
        "    def merge(self, nums1: List[int], m: int, nums2: List[int], n: int) -> None:\n",
        "        \"\"\"\n",
        "        这个不包含重复项目\n",
        "        Do not return anything, modify nums1 in-place instead.\n",
        "        \"\"\"\n",
        "        nums1[:]=nums1[:m]+nums2\n",
        "        nums1[:]=list(set(nums1[:]))\n",
        "        return None"
      ],
      "execution_count": 15,
      "outputs": []
    },
    {
      "cell_type": "code",
      "metadata": {
        "colab": {
          "base_uri": "https://localhost:8080/"
        },
        "id": "Vekigp7Ohz3b",
        "outputId": "2d216ff5-2335-40a8-b9aa-aadf3ace7727"
      },
      "source": [
        "nums1=[4,0,0,0,0,0]\n",
        "Solution().merge(nums1,1,[1,2,3,5,6],5)\n",
        "print(nums1)"
      ],
      "execution_count": 16,
      "outputs": [
        {
          "output_type": "stream",
          "text": [
            "[1, 2, 3, 4, 5, 6]\n"
          ],
          "name": "stdout"
        }
      ]
    },
    {
      "cell_type": "code",
      "metadata": {
        "colab": {
          "base_uri": "https://localhost:8080/"
        },
        "id": "p7rIBu_Mgrn5",
        "outputId": "b7ac8427-b7a0-44ab-812d-543f865a8872"
      },
      "source": [
        "nums=[1,2,4,3,5,6,7]\n",
        "nums=list(set(nums))\n",
        "print(nums)"
      ],
      "execution_count": 4,
      "outputs": [
        {
          "output_type": "stream",
          "text": [
            "[1, 2, 3, 4, 5, 6, 7]\n"
          ],
          "name": "stdout"
        }
      ]
    }
  ]
}