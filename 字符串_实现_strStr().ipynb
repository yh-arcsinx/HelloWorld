{
  "nbformat": 4,
  "nbformat_minor": 0,
  "metadata": {
    "colab": {
      "name": "字符串.实现 strStr().ipynb",
      "provenance": [],
      "authorship_tag": "ABX9TyP4A3OVeS7NDMKs1aCjoIsC",
      "include_colab_link": true
    },
    "kernelspec": {
      "name": "python3",
      "display_name": "Python 3"
    },
    "language_info": {
      "name": "python"
    }
  },
  "cells": [
    {
      "cell_type": "markdown",
      "metadata": {
        "id": "view-in-github",
        "colab_type": "text"
      },
      "source": [
        "<a href=\"https://colab.research.google.com/github/yh-arcsinx/Primary-Algorithm/blob/master/%E5%AD%97%E7%AC%A6%E4%B8%B2_%E5%AE%9E%E7%8E%B0_strStr().ipynb\" target=\"_parent\"><img src=\"https://colab.research.google.com/assets/colab-badge.svg\" alt=\"Open In Colab\"/></a>"
      ]
    },
    {
      "cell_type": "code",
      "metadata": {
        "id": "hGe8QG1zfk55"
      },
      "source": [
        "class Solution:\n",
        "    def strStr(self, haystack: str, needle: str) -> int:\n",
        "        if len(needle)==0:\n",
        "            return 0\n",
        "        if len(haystack)<len(needle):\n",
        "            return -1\n",
        "        j= 0\n",
        "        i=0\n",
        "        for x in range(0,5*10**4+1):\n",
        "            if haystack[i]==needle[j] and j<len(needle) and i<len(haystack):\n",
        "                j+=1\n",
        "                i+=1\n",
        "                if j ==len(needle):\n",
        "                    return i-j\n",
        "                elif i ==len(haystack):\n",
        "                    return -1\n",
        "            elif haystack[i]!=needle[j] and 0<j<len(needle) and i<len(haystack):\n",
        "                i=i-j+1\n",
        "                j=0               \n",
        "            elif i == len(haystack)-1:\n",
        "                return -1\n",
        "            else:\n",
        "                j =0\n",
        "                i +=1\n",
        "        \n",
        "                \n",
        "\n"
      ],
      "execution_count": 39,
      "outputs": []
    },
    {
      "cell_type": "code",
      "metadata": {
        "id": "935SAroxhY2R"
      },
      "source": [
        "class Solution:\n",
        "    def strStr(self, haystack: str, needle: str) -> int:\n",
        "        if len(haystack)<len(needle):\n",
        "            return -1\n",
        "        for i in range(len(haystack)-len(needle)+1):\n",
        "            if haystack[i:i+len(needle)]==needle:\n",
        "            \n",
        "                return i\n",
        "        return -1"
      ],
      "execution_count": 43,
      "outputs": []
    },
    {
      "cell_type": "code",
      "metadata": {
        "colab": {
          "base_uri": "https://localhost:8080/"
        },
        "id": "8Efa0Y4OhNVl",
        "outputId": "e697bfb7-2148-4ae5-ee7a-2528f8947387"
      },
      "source": [
        "print(Solution().strStr(\"mississippi\",\"issipi\"))"
      ],
      "execution_count": 44,
      "outputs": [
        {
          "output_type": "stream",
          "text": [
            "-1\n"
          ],
          "name": "stdout"
        }
      ]
    },
    {
      "cell_type": "code",
      "metadata": {
        "id": "E02F8-jAsRqM"
      },
      "source": [
        ""
      ],
      "execution_count": null,
      "outputs": []
    }
  ]
}