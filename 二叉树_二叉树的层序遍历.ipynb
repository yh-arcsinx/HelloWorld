{
  "nbformat": 4,
  "nbformat_minor": 0,
  "metadata": {
    "colab": {
      "name": "二叉树.二叉树的层序遍历.ipynb",
      "provenance": [],
      "collapsed_sections": [],
      "authorship_tag": "ABX9TyMWd3mf+Va7jwARzmmEwMTJ",
      "include_colab_link": true
    },
    "kernelspec": {
      "name": "python3",
      "display_name": "Python 3"
    },
    "language_info": {
      "name": "python"
    }
  },
  "cells": [
    {
      "cell_type": "markdown",
      "metadata": {
        "id": "view-in-github",
        "colab_type": "text"
      },
      "source": [
        "<a href=\"https://colab.research.google.com/github/yh-arcsinx/Primary-Algorithm/blob/master/%E4%BA%8C%E5%8F%89%E6%A0%91_%E4%BA%8C%E5%8F%89%E6%A0%91%E7%9A%84%E5%B1%82%E5%BA%8F%E9%81%8D%E5%8E%86.ipynb\" target=\"_parent\"><img src=\"https://colab.research.google.com/assets/colab-badge.svg\" alt=\"Open In Colab\"/></a>"
      ]
    },
    {
      "cell_type": "code",
      "metadata": {
        "id": "l3yeLvd84UXR"
      },
      "source": [
        "list1=[]\n",
        "list2=[1,2]\n",
        "list1.append(list2)"
      ],
      "execution_count": null,
      "outputs": []
    },
    {
      "cell_type": "code",
      "metadata": {
        "colab": {
          "base_uri": "https://localhost:8080/"
        },
        "id": "6PTHhfJE4az3",
        "outputId": "f76d8b9d-af7b-4cad-e49d-53a798cddd9d"
      },
      "source": [
        "print(list1)"
      ],
      "execution_count": null,
      "outputs": [
        {
          "output_type": "stream",
          "text": [
            "[None, 1, 2]\n"
          ],
          "name": "stdout"
        }
      ]
    },
    {
      "cell_type": "code",
      "metadata": {
        "id": "JjahDtMo4cbt"
      },
      "source": [
        "list1=[None,1,2]"
      ],
      "execution_count": null,
      "outputs": []
    },
    {
      "cell_type": "code",
      "metadata": {
        "colab": {
          "base_uri": "https://localhost:8080/"
        },
        "id": "4mJTaaU1VH2o",
        "outputId": "1a870412-e989-40bd-bb77-ff7237fc70d7"
      },
      "source": [
        "a=list1.pop(0)\n",
        "print(a)"
      ],
      "execution_count": null,
      "outputs": [
        {
          "output_type": "stream",
          "text": [
            "None\n"
          ],
          "name": "stdout"
        }
      ]
    },
    {
      "cell_type": "code",
      "metadata": {
        "colab": {
          "base_uri": "https://localhost:8080/"
        },
        "id": "UrxtYJo7WfcB",
        "outputId": "f85965a9-09be-49fa-c138-c84fdb51f374"
      },
      "source": [
        "list2=[]\n",
        "list1=[]\n",
        "print(list1)\n",
        "list1.append(list2)"
      ],
      "execution_count": null,
      "outputs": [
        {
          "output_type": "stream",
          "text": [
            "[]\n"
          ],
          "name": "stdout"
        }
      ]
    },
    {
      "cell_type": "code",
      "metadata": {
        "id": "QHveY9C_l3M0"
      },
      "source": [
        "if list2:\n",
        "    print(\"666\")"
      ],
      "execution_count": null,
      "outputs": []
    },
    {
      "cell_type": "code",
      "metadata": {
        "id": "ZRELnoz2l4vb"
      },
      "source": [
        "# Definition for a binary tree node.\n",
        "# class TreeNode:\n",
        "#     def __init__(self, val=0, left=None, right=None):\n",
        "#         self.val = val\n",
        "#         self.left = left\n",
        "#         self.right = right\n",
        "class Solution:\n",
        "    def levelOrder(self, root: TreeNode) -> List[List[int]]:\n",
        "        if not root:\n",
        "            return [] \n",
        "        list3=[]\n",
        "        listall=[[root.val]]\n",
        "        list1=[root.left,root.right]\n",
        "        flag=0\n",
        "        while list1:\n",
        "            \n",
        "            list2=[]\n",
        "            while list1:\n",
        "                \n",
        "\n",
        "                a=list1.pop(0)\n",
        "                if a:\n",
        "                    list2.append(a.val)\n",
        "                    list3.append(a.left)\n",
        "                    list3.append(a.right)\n",
        "            list1[:]=list3\n",
        "            list3=[]\n",
        "            if list2:\n",
        "                listall.append(list2)\n",
        "        return listall"
      ],
      "execution_count": null,
      "outputs": []
    },
    {
      "cell_type": "code",
      "metadata": {
        "colab": {
          "base_uri": "https://localhost:8080/"
        },
        "id": "JXjy_8VgEhft",
        "outputId": "870f7ad7-0b0b-474a-9760-c1f85fd1052a"
      },
      "source": [
        "list1=[1,2,3,4,1,2,3,4,1,2,1]\n",
        "hashmap={}\n",
        "for i in list1:\n",
        "    hashmap[i]=hashmap.get(i,0)+1\n",
        "\n",
        "print(hashmap)"
      ],
      "execution_count": 1,
      "outputs": [
        {
          "output_type": "stream",
          "text": [
            "{1: 4, 2: 3, 3: 2, 4: 2}\n"
          ],
          "name": "stdout"
        }
      ]
    },
    {
      "cell_type": "code",
      "metadata": {
        "id": "ZGas88MAFMRQ"
      },
      "source": [
        ""
      ],
      "execution_count": null,
      "outputs": []
    }
  ]
}