{
  "nbformat": 4,
  "nbformat_minor": 0,
  "metadata": {
    "colab": {
      "name": "字符串.验证回文串.ipynb",
      "provenance": [],
      "authorship_tag": "ABX9TyPYTD7jR/x5G4I8j21WP5Se",
      "include_colab_link": true
    },
    "kernelspec": {
      "name": "python3",
      "display_name": "Python 3"
    },
    "language_info": {
      "name": "python"
    }
  },
  "cells": [
    {
      "cell_type": "markdown",
      "metadata": {
        "id": "view-in-github",
        "colab_type": "text"
      },
      "source": [
        "<a href=\"https://colab.research.google.com/github/yh-arcsinx/Primary-Algorithm/blob/master/%E5%AD%97%E7%AC%A6%E4%B8%B2_%E9%AA%8C%E8%AF%81%E5%9B%9E%E6%96%87%E4%B8%B2.ipynb\" target=\"_parent\"><img src=\"https://colab.research.google.com/assets/colab-badge.svg\" alt=\"Open In Colab\"/></a>"
      ]
    },
    {
      "cell_type": "code",
      "metadata": {
        "id": "-GFc-_znsdur"
      },
      "source": [
        "class Solution:\n",
        "    def isPalindrome(self, s: str) -> bool:\n",
        "        if len(s)==0:\n",
        "            return True\n",
        "        i=0\n",
        "        j=len(s)-1\n",
        "        while i<j:\n",
        "            while i<j and not s[i].isalnum():\n",
        "                i +=1\n",
        "            while i<j and not s[j].isalnum():\n",
        "                j-=1\n",
        "            if s[i].lower()!=s[j].lower():\n",
        "                return False\n",
        "            i+=1\n",
        "            j-=1\n",
        "        return True\n"
      ],
      "execution_count": 8,
      "outputs": []
    },
    {
      "cell_type": "code",
      "metadata": {
        "colab": {
          "base_uri": "https://localhost:8080/"
        },
        "id": "rPX98Zu8sx9S",
        "outputId": "431b18e9-6079-4950-e3a6-b22904b68577"
      },
      "source": [
        "print(Solution().isPalindrome( \"A man, a plan, a canal: Panama\"))"
      ],
      "execution_count": 9,
      "outputs": [
        {
          "output_type": "stream",
          "text": [
            "True\n"
          ],
          "name": "stdout"
        }
      ]
    },
    {
      "cell_type": "code",
      "metadata": {
        "colab": {
          "base_uri": "https://localhost:8080/"
        },
        "id": "FWiKfr1fstGD",
        "outputId": "df71d6f8-3b47-423e-e431-8b59bf90dae0"
      },
      "source": [
        "x=\"A man, a plan, a canal: Panama\"\n",
        "for i in x:\n",
        "    print(i)\n"
      ],
      "execution_count": 2,
      "outputs": [
        {
          "output_type": "stream",
          "text": [
            "A\n",
            " \n",
            "m\n",
            "a\n",
            "n\n",
            ",\n",
            " \n",
            "a\n",
            " \n",
            "p\n",
            "l\n",
            "a\n",
            "n\n",
            ",\n",
            " \n",
            "a\n",
            " \n",
            "c\n",
            "a\n",
            "n\n",
            "a\n",
            "l\n",
            ":\n",
            " \n",
            "P\n",
            "a\n",
            "n\n",
            "a\n",
            "m\n",
            "a\n"
          ],
          "name": "stdout"
        }
      ]
    }
  ]
}