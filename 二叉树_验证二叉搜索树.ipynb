{
  "nbformat": 4,
  "nbformat_minor": 0,
  "metadata": {
    "colab": {
      "name": "二叉树.验证二叉搜索树.ipynb",
      "provenance": [],
      "authorship_tag": "ABX9TyM1WZJv9jbUn1mN7lCWNcrI",
      "include_colab_link": true
    },
    "kernelspec": {
      "name": "python3",
      "display_name": "Python 3"
    },
    "language_info": {
      "name": "python"
    }
  },
  "cells": [
    {
      "cell_type": "markdown",
      "metadata": {
        "id": "view-in-github",
        "colab_type": "text"
      },
      "source": [
        "<a href=\"https://colab.research.google.com/github/yh-arcsinx/Primary-Algorithm/blob/master/%E4%BA%8C%E5%8F%89%E6%A0%91_%E9%AA%8C%E8%AF%81%E4%BA%8C%E5%8F%89%E6%90%9C%E7%B4%A2%E6%A0%91.ipynb\" target=\"_parent\"><img src=\"https://colab.research.google.com/assets/colab-badge.svg\" alt=\"Open In Colab\"/></a>"
      ]
    },
    {
      "cell_type": "code",
      "metadata": {
        "id": "-jtVmqVcGPNk"
      },
      "source": [
        "# Definition for a binary tree node.\n",
        "# class TreeNode:\n",
        "#     def __init__(self, val=0, left=None, right=None):\n",
        "#         self.val = val\n",
        "#         self.left = left\n",
        "#         self.right = right\n",
        "class Solution:\n",
        "    def isValidBST(self, root: TreeNode) -> bool:\n",
        "        def digui(root,left=float(\"-inf\"),right=float(\"inf\")):\n",
        "            if root==None:\n",
        "                return True\n",
        "            elif left>=root.val or right<=root.val:\n",
        "                return False\n",
        "            elif not digui(root.left,left,root.val):\n",
        "                return False\n",
        "            elif not digui(root.right,root.val,right):\n",
        "                return False\n",
        "            return True\n",
        "        return digui(root)\n"
      ],
      "execution_count": null,
      "outputs": []
    },
    {
      "cell_type": "code",
      "metadata": {
        "colab": {
          "base_uri": "https://localhost:8080/"
        },
        "id": "UZkkWZdJGK2z",
        "outputId": "7c33cba7-2db0-4018-ad7b-12c92622fc8e"
      },
      "source": [
        "print(float(\"-inf\"))"
      ],
      "execution_count": 2,
      "outputs": [
        {
          "output_type": "stream",
          "text": [
            "-inf\n"
          ],
          "name": "stdout"
        }
      ]
    },
    {
      "cell_type": "code",
      "metadata": {
        "id": "Eqz8joWAGUyL"
      },
      "source": [
        ""
      ],
      "execution_count": null,
      "outputs": []
    }
  ]
}