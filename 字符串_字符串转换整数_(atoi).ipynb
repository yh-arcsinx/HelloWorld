{
  "nbformat": 4,
  "nbformat_minor": 0,
  "metadata": {
    "colab": {
      "name": "字符串.字符串转换整数 (atoi).ipynb",
      "provenance": [],
      "authorship_tag": "ABX9TyOKpKB8ZZYGQ2ifTsZ9jbTv",
      "include_colab_link": true
    },
    "kernelspec": {
      "name": "python3",
      "display_name": "Python 3"
    },
    "language_info": {
      "name": "python"
    }
  },
  "cells": [
    {
      "cell_type": "markdown",
      "metadata": {
        "id": "view-in-github",
        "colab_type": "text"
      },
      "source": [
        "<a href=\"https://colab.research.google.com/github/yh-arcsinx/Primary-Algorithm/blob/master/%E5%AD%97%E7%AC%A6%E4%B8%B2_%E5%AD%97%E7%AC%A6%E4%B8%B2%E8%BD%AC%E6%8D%A2%E6%95%B4%E6%95%B0_(atoi).ipynb\" target=\"_parent\"><img src=\"https://colab.research.google.com/assets/colab-badge.svg\" alt=\"Open In Colab\"/></a>"
      ]
    },
    {
      "cell_type": "code",
      "metadata": {
        "id": "1Q5K2UsEvWU4"
      },
      "source": [
        "class Solution:\n",
        "    def myAtoi(self, s: str) -> int:\n",
        "        nums=\"\"\n",
        "        i=0\n",
        "        while i <len(s):\n",
        "            if s[i]==\" \":\n",
        "                if len(nums)==0: \n",
        "                \ti+=1\n",
        "                else:\n",
        "                    break\n",
        "            elif s[i]==\"-\" or s[i]==\"+\":\n",
        "                if len(nums)!=0:\n",
        "                    break\n",
        "                nums=nums+s[i]\n",
        "                i+=1 \n",
        "            elif s [i]. isdigit() :\n",
        "                nums=nums+s[i]\n",
        "                i+=1\n",
        "            else:\n",
        "                break\n",
        "        if len(nums)==0 or nums==\"-\" or nums==\"+\":\n",
        "            return 0\n",
        "        nums=int(nums)\n",
        "        if nums>=2**31-1:\n",
        "            nums=2**31-1\n",
        "        elif nums<=-2**31:\n",
        "            nums=-2**31\n",
        "        return nums\n"
      ],
      "execution_count": 17,
      "outputs": []
    },
    {
      "cell_type": "code",
      "metadata": {
        "id": "VVY1SidZ930N"
      },
      "source": [
        "class Solution:\n",
        "    def myAtoi(self, s: str) -> int:\n",
        "        nums=\"\"\n",
        "        i=0\n",
        "        if len(s)==0:\n",
        "            return 0\n",
        "        while s[i]==\" \":\n",
        "            i+=1\n",
        "            if i==len(s):\n",
        "                return 0\n",
        "        for i in range(i,len(s)):\n",
        "            if s[i] in \"+-\":\n",
        "                if len(nums)!=0:\n",
        "                    break\n",
        "                nums=nums+s[i]\n",
        "                i+=1 \n",
        "            elif s [i]. isdigit() :\n",
        "                nums=nums+s[i]\n",
        "                i+=1\n",
        "            else:\n",
        "                break\n",
        "        if len(nums)==0 or nums in \"-+\":\n",
        "            return 0\n",
        "        nums=int(nums)\n",
        "        if nums>=2**31-1:\n",
        "            nums=2**31-1\n",
        "        elif nums<=-2**31:\n",
        "            nums=-2**31\n",
        "        return nums\n"
      ],
      "execution_count": 27,
      "outputs": []
    },
    {
      "cell_type": "code",
      "metadata": {
        "colab": {
          "base_uri": "https://localhost:8080/"
        },
        "id": "gZ5vqhU37YO5",
        "outputId": "62fd3c46-1d50-45c1-f9b0-dcbce62ba892"
      },
      "source": [
        "print(Solution().myAtoi(\" -42 2\"))"
      ],
      "execution_count": 28,
      "outputs": [
        {
          "output_type": "stream",
          "text": [
            "-42\n"
          ],
          "name": "stdout"
        }
      ]
    },
    {
      "cell_type": "code",
      "metadata": {
        "colab": {
          "base_uri": "https://localhost:8080/"
        },
        "id": "_8uO_oiv5Yul",
        "outputId": "c8cb3e41-26b2-4634-8447-2d8b12d5031d"
      },
      "source": [
        "s=\"1 234\"\n",
        "for i in range(len (s)):\n",
        "    print(i)\n",
        "s[1]. isdigit()"
      ],
      "execution_count": 13,
      "outputs": [
        {
          "output_type": "stream",
          "text": [
            "0\n",
            "1\n",
            "2\n",
            "3\n",
            "4\n"
          ],
          "name": "stdout"
        },
        {
          "output_type": "execute_result",
          "data": {
            "text/plain": [
              "False"
            ]
          },
          "metadata": {
            "tags": []
          },
          "execution_count": 13
        }
      ]
    },
    {
      "cell_type": "code",
      "metadata": {
        "colab": {
          "base_uri": "https://localhost:8080/"
        },
        "id": "WANJd4iY5gmm",
        "outputId": "c5c29b35-0b6b-4285-8521-7205db9accf7"
      },
      "source": [
        "int(\"-91283472332\")"
      ],
      "execution_count": 32,
      "outputs": [
        {
          "output_type": "execute_result",
          "data": {
            "text/plain": [
              "-91283472332"
            ]
          },
          "metadata": {
            "tags": []
          },
          "execution_count": 32
        }
      ]
    },
    {
      "cell_type": "code",
      "metadata": {
        "colab": {
          "base_uri": "https://localhost:8080/"
        },
        "id": "d6gx2diR9xO8",
        "outputId": "90aafd4c-3c32-49dc-eaf4-63ea3a96170e"
      },
      "source": [
        "-91283472332>2**31"
      ],
      "execution_count": 33,
      "outputs": [
        {
          "output_type": "execute_result",
          "data": {
            "text/plain": [
              "False"
            ]
          },
          "metadata": {
            "tags": []
          },
          "execution_count": 33
        }
      ]
    }
  ]
}