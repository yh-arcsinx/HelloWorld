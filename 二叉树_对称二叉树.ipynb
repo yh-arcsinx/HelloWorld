{
  "nbformat": 4,
  "nbformat_minor": 0,
  "metadata": {
    "colab": {
      "name": "二叉树.对称二叉树.ipynb",
      "provenance": [],
      "authorship_tag": "ABX9TyPDQVwUqxhb9VGX0tC4tir1",
      "include_colab_link": true
    },
    "kernelspec": {
      "name": "python3",
      "display_name": "Python 3"
    },
    "language_info": {
      "name": "python"
    }
  },
  "cells": [
    {
      "cell_type": "markdown",
      "metadata": {
        "id": "view-in-github",
        "colab_type": "text"
      },
      "source": [
        "<a href=\"https://colab.research.google.com/github/yh-arcsinx/Primary-Algorithm/blob/master/%E4%BA%8C%E5%8F%89%E6%A0%91_%E5%AF%B9%E7%A7%B0%E4%BA%8C%E5%8F%89%E6%A0%91.ipynb\" target=\"_parent\"><img src=\"https://colab.research.google.com/assets/colab-badge.svg\" alt=\"Open In Colab\"/></a>"
      ]
    },
    {
      "cell_type": "code",
      "metadata": {
        "id": "rg7haQkHyMhP"
      },
      "source": [
        "# Definition for a binary tree node.\n",
        "# class TreeNode:\n",
        "#     def __init__(self, val=0, left=None, right=None):\n",
        "#         self.val = val\n",
        "#         self.left = left\n",
        "#         self.right = right\n",
        "class Solution:\n",
        "    def isSymmetric(self, root: TreeNode) -> bool:\n",
        "        def dfs(left,right):\n",
        "            if not (left or right):\n",
        "                return True\n",
        "            elif not (left and right):\n",
        "                return False\n",
        "            elif left.val!=right.val:\n",
        "                return False\n",
        "            else:\n",
        "                return dfs(left.right,right.left) and dfs(left.left,right.right)\n",
        "        return dfs(root.left,root.right) \n"
      ],
      "execution_count": null,
      "outputs": []
    }
  ]
}