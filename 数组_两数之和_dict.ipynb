{
  "nbformat": 4,
  "nbformat_minor": 0,
  "metadata": {
    "colab": {
      "name": "数组.两数之和.dict.ipynb",
      "provenance": [],
      "authorship_tag": "ABX9TyM8gBx+HAVhDzsZ7sD9ghv7",
      "include_colab_link": true
    },
    "kernelspec": {
      "name": "python3",
      "display_name": "Python 3"
    },
    "language_info": {
      "name": "python"
    }
  },
  "cells": [
    {
      "cell_type": "markdown",
      "metadata": {
        "id": "view-in-github",
        "colab_type": "text"
      },
      "source": [
        "<a href=\"https://colab.research.google.com/github/yh-arcsinx/Primary-Algorithm/blob/master/%E6%95%B0%E7%BB%84_%E4%B8%A4%E6%95%B0%E4%B9%8B%E5%92%8C_dict.ipynb\" target=\"_parent\"><img src=\"https://colab.research.google.com/assets/colab-badge.svg\" alt=\"Open In Colab\"/></a>"
      ]
    },
    {
      "cell_type": "code",
      "metadata": {
        "id": "ipQxDwrScdkA"
      },
      "source": [
        "from typing import List"
      ],
      "execution_count": 1,
      "outputs": []
    },
    {
      "cell_type": "code",
      "metadata": {
        "id": "vdKZRBuYcsrx"
      },
      "source": [
        "class Solution:\n",
        "    def twoSum(self, nums: List[int], target: int) -> List[int]:\n",
        "        map1= dict()\n",
        "        for i in range(len(nums)):\n",
        "            if target-nums[i] not in map1:\n",
        "                map1[nums[i]]=i\n",
        "            else: \n",
        "                \n",
        "                return [map1[target-nums[i]],i]"
      ],
      "execution_count": 4,
      "outputs": []
    },
    {
      "cell_type": "code",
      "metadata": {
        "colab": {
          "base_uri": "https://localhost:8080/"
        },
        "id": "dWTwh9F-deAc",
        "outputId": "5ed6e8c0-d083-47d4-9ed2-d5043e872cf5"
      },
      "source": [
        "s= Solution()\n",
        "print(s.twoSum(nums = [3,2,4], target = 6))"
      ],
      "execution_count": 6,
      "outputs": [
        {
          "output_type": "stream",
          "text": [
            "[1, 2]\n"
          ],
          "name": "stdout"
        }
      ]
    },
    {
      "cell_type": "code",
      "metadata": {
        "id": "W9OO5mRMdq0j"
      },
      "source": [
        ""
      ],
      "execution_count": null,
      "outputs": []
    }
  ]
}