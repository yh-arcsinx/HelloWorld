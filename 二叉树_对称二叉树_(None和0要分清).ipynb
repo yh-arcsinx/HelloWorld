{
  "nbformat": 4,
  "nbformat_minor": 0,
  "metadata": {
    "colab": {
      "name": "二叉树.对称二叉树.(None和0要分清).ipynb",
      "provenance": [],
      "collapsed_sections": [],
      "authorship_tag": "ABX9TyPPke2K9EqaP6fH1EjBtdBp",
      "include_colab_link": true
    },
    "kernelspec": {
      "name": "python3",
      "display_name": "Python 3"
    },
    "language_info": {
      "name": "python"
    }
  },
  "cells": [
    {
      "cell_type": "markdown",
      "metadata": {
        "id": "view-in-github",
        "colab_type": "text"
      },
      "source": [
        "<a href=\"https://colab.research.google.com/github/yh-arcsinx/Primary-Algorithm/blob/master/%E4%BA%8C%E5%8F%89%E6%A0%91_%E5%AF%B9%E7%A7%B0%E4%BA%8C%E5%8F%89%E6%A0%91_(None%E5%92%8C0%E8%A6%81%E5%88%86%E6%B8%85).ipynb\" target=\"_parent\"><img src=\"https://colab.research.google.com/assets/colab-badge.svg\" alt=\"Open In Colab\"/></a>"
      ]
    },
    {
      "cell_type": "code",
      "metadata": {
        "id": "rg7haQkHyMhP"
      },
      "source": [
        "# Definition for a binary tree node.\n",
        "# class TreeNode:\n",
        "#     def __init__(self, val=0, left=None, right=None):\n",
        "#         self.val = val\n",
        "#         self.left = left\n",
        "#         self.right = right\n",
        "class Solution:\n",
        "    def isSymmetric(self, root: TreeNode) -> bool:\n",
        "        def dfs(left,right):\n",
        "            if not (left or right):\n",
        "                return True\n",
        "            elif not (left and right):\n",
        "                return False\n",
        "            elif left.val!=right.val:\n",
        "                return False\n",
        "            else:\n",
        "                return dfs(left.right,right.left) and dfs(left.left,right.right)\n",
        "        return dfs(root.left,root.right) \n"
      ],
      "execution_count": null,
      "outputs": []
    },
    {
      "cell_type": "code",
      "metadata": {
        "id": "Fz-RMkhZ1idU"
      },
      "source": [
        "# Definition for a binary tree node.\n",
        "# class TreeNode:\n",
        "#     def __init__(self, val=0, left=None, right=None):\n",
        "#         self.val = val\n",
        "#         self.left = left\n",
        "#         self.right = right\n",
        "class Solution:\n",
        "    def isSymmetric(self, root: TreeNode) -> bool:\n",
        "        if not root and not (root.left and root.right):\n",
        "            return True\n",
        "        queue=[root.left,root.right]\n",
        "        while queue:\n",
        "            left=queue.pop(0)\n",
        "            right=queue.pop(0)\n",
        "            if not (left or right):\n",
        "                continue\n",
        "            elif not(left and right):\n",
        "                return False\n",
        "            elif right.val != left.val:\n",
        "                return False\n",
        "\n",
        "            queue.append(left.left)\n",
        "            queue.append(right.right)\n",
        "            queue.append(left.right)\n",
        "            queue.append(right.left)\n",
        "        return True"
      ],
      "execution_count": null,
      "outputs": []
    },
    {
      "cell_type": "code",
      "metadata": {
        "id": "xhBldIIH2JQT"
      },
      "source": [
        "class Solution(object):\n",
        "\tdef isSymmetric(self, root):\n",
        "\t\tif not root or not (root.left or root.right):\n",
        "\t\t\treturn True\n",
        "\t\t# 用队列保存节点\t\n",
        "\t\tqueue = [root.left,root.right]\n",
        "\t\twhile queue:\n",
        "\t\t\t# 从队列中取出两个节点，再比较这两个节点\n",
        "\t\t\tleft = queue.pop(0)\n",
        "\t\t\tright = queue.pop(0)\n",
        "\t\t\t# 如果两个节点都为空就继续循环，两者有一个为空就返回false\n",
        "\t\t\tif not (left or right):\n",
        "\t\t\t\tcontinue\n",
        "\t\t\tif not (left and right):\n",
        "\t\t\t\treturn False\n",
        "\t\t\tif left.val!=right.val:\n",
        "\t\t\t\treturn False\n",
        "\t\t\t# 将左节点的左孩子， 右节点的右孩子放入队列\n",
        "\t\t\tqueue.append(left.left)\n",
        "\t\t\tqueue.append(right.right)\n",
        "\t\t\t# 将左节点的右孩子，右节点的左孩子放入队列\n",
        "\t\t\tqueue.append(left.right)\n",
        "\t\t\tqueue.append(right.left)\n",
        "\t\treturn True\n",
        "\n"
      ],
      "execution_count": null,
      "outputs": []
    },
    {
      "cell_type": "code",
      "metadata": {
        "colab": {
          "base_uri": "https://localhost:8080/"
        },
        "id": "dOuE_WXu2qQ8",
        "outputId": "26e6fdee-3a88-4237-af29-7ce65b0b1d66"
      },
      "source": [
        "a=None\n",
        "if not a:\n",
        "    print(\"666\")\n",
        "a=0\n",
        "if not a:\n",
        "    print(\"777\")"
      ],
      "execution_count": 1,
      "outputs": [
        {
          "output_type": "stream",
          "text": [
            "666\n",
            "777\n"
          ],
          "name": "stdout"
        }
      ]
    },
    {
      "cell_type": "code",
      "metadata": {
        "id": "CN0GkITM23yT"
      },
      "source": [
        ""
      ],
      "execution_count": null,
      "outputs": []
    }
  ]
}