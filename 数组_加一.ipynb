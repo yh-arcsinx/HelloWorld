{
  "nbformat": 4,
  "nbformat_minor": 0,
  "metadata": {
    "colab": {
      "name": "数组.加一.ipynb",
      "provenance": [],
      "authorship_tag": "ABX9TyPrUhS/YtkvKE2NewZgW2e0",
      "include_colab_link": true
    },
    "kernelspec": {
      "name": "python3",
      "display_name": "Python 3"
    },
    "language_info": {
      "name": "python"
    }
  },
  "cells": [
    {
      "cell_type": "markdown",
      "metadata": {
        "id": "view-in-github",
        "colab_type": "text"
      },
      "source": [
        "<a href=\"https://colab.research.google.com/github/yh-arcsinx/Primary-Algorithm/blob/master/%E6%95%B0%E7%BB%84_%E5%8A%A0%E4%B8%80.ipynb\" target=\"_parent\"><img src=\"https://colab.research.google.com/assets/colab-badge.svg\" alt=\"Open In Colab\"/></a>"
      ]
    },
    {
      "cell_type": "code",
      "metadata": {
        "id": "7ETh4uZPaKMa"
      },
      "source": [
        "from typing import List"
      ],
      "execution_count": 1,
      "outputs": []
    },
    {
      "cell_type": "code",
      "metadata": {
        "id": "Ly72wrX3adbc"
      },
      "source": [
        "class Solution:\n",
        "    def plusOne(self, digits: List[int]) -> List[int]:\n",
        "        i=0\n",
        "        while i <len(digits) and digits[len(digits)-i -1] == 9:\n",
        "            i = i+1\n",
        "        if i == len(digits):\n",
        "            num =[0]*(i+1)\n",
        "            num[0]=1\n",
        "\n",
        "            return num\n",
        "\n",
        "        if i != 0:\n",
        "            num=digits[:len(digits)-1-i]+[digits[len(digits)-1-i]+1]\n",
        "            for j in range(0,i):\n",
        "                num.append(0)\n",
        "                \n",
        "            return num\n",
        "\n",
        "        return digits[:len(digits)-1]+ [digits[-1]+1]"
      ],
      "execution_count": 44,
      "outputs": []
    },
    {
      "cell_type": "code",
      "metadata": {
        "id": "7K4ZGA7vmwuz"
      },
      "source": [
        "class Solution:\n",
        "    def plusOne(self, digits: List[int]) -> List[int]:\n",
        "        j =len(digits)\n",
        "        for i in range(len(digits)):\n",
        "            i = j - i -1\n",
        "            digits[i] += 1 \n",
        "            digits[i] =digits[i] %10\n",
        "            if digits[i] != 0:\n",
        "                return digits\n",
        "        digits = [0]*(len(digits)+1)\n",
        "        digits[0]=1\n",
        "        return digits\n",
        "        "
      ],
      "execution_count": 60,
      "outputs": []
    },
    {
      "cell_type": "code",
      "metadata": {
        "colab": {
          "base_uri": "https://localhost:8080/"
        },
        "id": "gzm1UEPHde7o",
        "outputId": "dbce0585-ef64-4437-b14e-56acb603d7fa"
      },
      "source": [
        "s=Solution()\n",
        "print(s.plusOne([9,9,9]))"
      ],
      "execution_count": 62,
      "outputs": [
        {
          "output_type": "stream",
          "text": [
            "[1, 0, 0, 0]\n"
          ],
          "name": "stdout"
        }
      ]
    },
    {
      "cell_type": "code",
      "metadata": {
        "colab": {
          "base_uri": "https://localhost:8080/"
        },
        "id": "L8lYRdXCdnaQ",
        "outputId": "419c3ce7-806c-4f35-d297-3dbd4c4f9878"
      },
      "source": [
        "for j in (0,10):\n",
        "\n",
        "    print(1)"
      ],
      "execution_count": 30,
      "outputs": [
        {
          "output_type": "stream",
          "text": [
            "1\n",
            "1\n"
          ],
          "name": "stdout"
        }
      ]
    },
    {
      "cell_type": "code",
      "metadata": {
        "colab": {
          "base_uri": "https://localhost:8080/"
        },
        "id": "4tOL0OzlfShW",
        "outputId": "dc4e1fdb-6b8a-46e2-cd66-261603251270"
      },
      "source": [
        "import numpy as np\n",
        "np.zeros((10))"
      ],
      "execution_count": 51,
      "outputs": [
        {
          "output_type": "execute_result",
          "data": {
            "text/plain": [
              "array([0., 0., 0., 0., 0., 0., 0., 0., 0., 0.])"
            ]
          },
          "metadata": {
            "tags": []
          },
          "execution_count": 51
        }
      ]
    },
    {
      "cell_type": "code",
      "metadata": {
        "colab": {
          "base_uri": "https://localhost:8080/"
        },
        "id": "00PC2D1XmK_3",
        "outputId": "d30df6de-cb07-4946-cc9d-ea850f9ef27e"
      },
      "source": [
        "[0]*10"
      ],
      "execution_count": 52,
      "outputs": [
        {
          "output_type": "execute_result",
          "data": {
            "text/plain": [
              "[0, 0, 0, 0, 0, 0, 0, 0, 0, 0]"
            ]
          },
          "metadata": {
            "tags": []
          },
          "execution_count": 52
        }
      ]
    }
  ]
}