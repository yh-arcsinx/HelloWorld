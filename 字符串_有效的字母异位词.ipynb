{
  "nbformat": 4,
  "nbformat_minor": 0,
  "metadata": {
    "colab": {
      "name": "字符串.有效的字母异位词.ipynb",
      "provenance": [],
      "collapsed_sections": [],
      "authorship_tag": "ABX9TyPPvnPVjZdKxd6UNquWwS47",
      "include_colab_link": true
    },
    "kernelspec": {
      "name": "python3",
      "display_name": "Python 3"
    },
    "language_info": {
      "name": "python"
    }
  },
  "cells": [
    {
      "cell_type": "markdown",
      "metadata": {
        "id": "view-in-github",
        "colab_type": "text"
      },
      "source": [
        "<a href=\"https://colab.research.google.com/github/yh-arcsinx/Primary-Algorithm/blob/master/%E5%AD%97%E7%AC%A6%E4%B8%B2_%E6%9C%89%E6%95%88%E7%9A%84%E5%AD%97%E6%AF%8D%E5%BC%82%E4%BD%8D%E8%AF%8D.ipynb\" target=\"_parent\"><img src=\"https://colab.research.google.com/assets/colab-badge.svg\" alt=\"Open In Colab\"/></a>"
      ]
    },
    {
      "cell_type": "code",
      "metadata": {
        "id": "xtyl77-phKjl"
      },
      "source": [
        "class Solution:\n",
        "    def isAnagram(self, s: str, t: str) -> bool:\n",
        "        if len(s) != len(t):\n",
        "            return False\n",
        "        map1={}\n",
        "        map2={}\n",
        "        for i in s:\n",
        "            map1[i]=map1.get(i,0)+1\n",
        "        for i in t:\n",
        "            map2[i]=map2.get(i,0)+1\n",
        "        if map1==map2:\n",
        "            return True\n",
        "        return False\n"
      ],
      "execution_count": 6,
      "outputs": []
    },
    {
      "cell_type": "code",
      "metadata": {
        "colab": {
          "base_uri": "https://localhost:8080/"
        },
        "id": "IwXuY9bNoLE_",
        "outputId": "889a0787-940e-4b98-8fd3-81cb690f0a4c"
      },
      "source": [
        "print(Solution().isAnagram(s = \"rat\", t = \"car\"))"
      ],
      "execution_count": 8,
      "outputs": [
        {
          "output_type": "stream",
          "text": [
            "False\n"
          ],
          "name": "stdout"
        }
      ]
    },
    {
      "cell_type": "code",
      "metadata": {
        "id": "4d4cOiQFoSOJ"
      },
      "source": [
        ""
      ],
      "execution_count": null,
      "outputs": []
    }
  ]
}