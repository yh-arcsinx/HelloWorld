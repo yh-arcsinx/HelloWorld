{
  "nbformat": 4,
  "nbformat_minor": 0,
  "metadata": {
    "colab": {
      "name": "动态规划.爬楼梯.ipynb",
      "provenance": [],
      "authorship_tag": "ABX9TyOTPMzK9xSnsf0hh4Ph6C3v",
      "include_colab_link": true
    },
    "kernelspec": {
      "name": "python3",
      "display_name": "Python 3"
    },
    "language_info": {
      "name": "python"
    }
  },
  "cells": [
    {
      "cell_type": "markdown",
      "metadata": {
        "id": "view-in-github",
        "colab_type": "text"
      },
      "source": [
        "<a href=\"https://colab.research.google.com/github/yh-arcsinx/Primary-Algorithm/blob/master/%E5%8A%A8%E6%80%81%E8%A7%84%E5%88%92_%E7%88%AC%E6%A5%BC%E6%A2%AF.ipynb\" target=\"_parent\"><img src=\"https://colab.research.google.com/assets/colab-badge.svg\" alt=\"Open In Colab\"/></a>"
      ]
    },
    {
      "cell_type": "code",
      "metadata": {
        "id": "93kAGqJSLynD"
      },
      "source": [
        "class Solution:\n",
        "    def climbStairs(self, n: int) -> int:\n",
        "        l=1\n",
        "        r=2\n",
        "        if n==1:\n",
        "            return 1\n",
        "        if n==2:return 2\n",
        "        for i in range(n-2):\n",
        "            sum = l+r\n",
        "            l,r = r,sum\n",
        "        return sum\n"
      ],
      "execution_count": null,
      "outputs": []
    }
  ]
}