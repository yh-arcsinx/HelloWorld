{
  "nbformat": 4,
  "nbformat_minor": 0,
  "metadata": {
    "colab": {
      "name": "数组.买卖股票的最佳时机.ipynb",
      "provenance": [],
      "authorship_tag": "ABX9TyMiENmbCNI07gnVa4aPuV8U",
      "include_colab_link": true
    },
    "kernelspec": {
      "name": "python3",
      "display_name": "Python 3"
    },
    "language_info": {
      "name": "python"
    }
  },
  "cells": [
    {
      "cell_type": "markdown",
      "metadata": {
        "id": "view-in-github",
        "colab_type": "text"
      },
      "source": [
        "<a href=\"https://colab.research.google.com/github/yh-arcsinx/Primary-Algorithm/blob/master/%E6%95%B0%E7%BB%84_%E4%B9%B0%E5%8D%96%E8%82%A1%E7%A5%A8%E7%9A%84%E6%9C%80%E4%BD%B3%E6%97%B6%E6%9C%BA.ipynb\" target=\"_parent\"><img src=\"https://colab.research.google.com/assets/colab-badge.svg\" alt=\"Open In Colab\"/></a>"
      ]
    },
    {
      "cell_type": "code",
      "metadata": {
        "id": "SlFPXVtNo4r8"
      },
      "source": [
        "from typing import List"
      ],
      "execution_count": null,
      "outputs": []
    },
    {
      "cell_type": "code",
      "metadata": {
        "id": "EGVmWlPVotdk"
      },
      "source": [
        "class Solution:\n",
        "    def maxProfit(self, prices: List[int]) -> int:\n",
        "        sum1 = 0\n",
        "        buy = 0\n",
        "        flag = 0\n",
        "        prices.append(0)\n",
        "        for i in range(len(prices)-1):\n",
        "            \n",
        "            if prices[i] < prices[i+1] and flag == 0:\n",
        "                buy = prices[i]\n",
        "                flag = 1\n",
        "            elif prices[i] > prices[i+1] and flag != 0:\n",
        "                sum1 = sum1 - buy +prices[i]\n",
        "                buy = 0\n",
        "                flag = 0\n",
        "            print (buy)\n",
        "        return sum1+buy\n",
        "\n"
      ],
      "execution_count": null,
      "outputs": []
    },
    {
      "cell_type": "code",
      "metadata": {
        "id": "WNKuk_0TsY_P"
      },
      "source": [
        "a = [1,2,3,4]\n",
        "a.append(1)\n",
        "a"
      ],
      "execution_count": null,
      "outputs": []
    },
    {
      "cell_type": "code",
      "metadata": {
        "colab": {
          "base_uri": "https://localhost:8080/"
        },
        "id": "BsDBqlNDscuO",
        "outputId": "e094ff38-d9fd-4a53-acf8-c643f80df853"
      },
      "source": [
        "s = Solution()\n",
        "Key = s.maxProfit([2,1,2,0,1])\n",
        "print(\"Key:\",Key)"
      ],
      "execution_count": null,
      "outputs": [
        {
          "output_type": "stream",
          "text": [
            "0\n",
            "1\n",
            "0\n",
            "0\n",
            "0\n",
            "Key: 2\n"
          ],
          "name": "stdout"
        }
      ]
    },
    {
      "cell_type": "code",
      "metadata": {
        "colab": {
          "base_uri": "https://localhost:8080/"
        },
        "id": "VFz6513rsgRv",
        "outputId": "374195ed-2d15-4322-88cc-95702078199d"
      },
      "source": [
        "\n"
      ],
      "execution_count": null,
      "outputs": [
        {
          "output_type": "execute_result",
          "data": {
            "text/plain": [
              "[1, 2, 3, 4, 1]"
            ]
          },
          "metadata": {
            "tags": []
          },
          "execution_count": 21
        }
      ]
    },
    {
      "cell_type": "code",
      "metadata": {
        "id": "s24gmqiGsmB8"
      },
      "source": [
        ""
      ],
      "execution_count": null,
      "outputs": []
    }
  ]
}