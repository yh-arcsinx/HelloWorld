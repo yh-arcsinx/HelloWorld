{
  "nbformat": 4,
  "nbformat_minor": 0,
  "metadata": {
    "colab": {
      "name": "字符串.外观数列.ipynb",
      "provenance": [],
      "collapsed_sections": [],
      "authorship_tag": "ABX9TyMXtbDHmqWEb+0LkGcd059v",
      "include_colab_link": true
    },
    "kernelspec": {
      "name": "python3",
      "display_name": "Python 3"
    },
    "language_info": {
      "name": "python"
    }
  },
  "cells": [
    {
      "cell_type": "markdown",
      "metadata": {
        "id": "view-in-github",
        "colab_type": "text"
      },
      "source": [
        "<a href=\"https://colab.research.google.com/github/yh-arcsinx/Primary-Algorithm/blob/master/%E5%AD%97%E7%AC%A6%E4%B8%B2_%E5%A4%96%E8%A7%82%E6%95%B0%E5%88%97.ipynb\" target=\"_parent\"><img src=\"https://colab.research.google.com/assets/colab-badge.svg\" alt=\"Open In Colab\"/></a>"
      ]
    },
    {
      "cell_type": "code",
      "metadata": {
        "id": "Du9ooFO80adT"
      },
      "source": [
        "class Solution:\n",
        "    def countAndSay(self, n: int) -> str:\n",
        "        x =[1]\n",
        "        \n",
        "        for i in range(n-1):\n",
        "            temp=[]\n",
        "            \n",
        "            s=0\n",
        "            for j in range(len(x)):\n",
        "                k=0\n",
        "                while k+j+s<len(x) and x[k+j+s]==x[j+s]:\n",
        "                    k=k+1\n",
        "                temp.append(k)\n",
        "                temp.append(x[j+s])\n",
        "                                \n",
        "                if k+j+s==len(x):\n",
        "                    x = temp\n",
        "                    break\n",
        "                s=s+k-1\n",
        "        sum=\"\"\n",
        "        for i in range(len(x)):\n",
        "            sum=sum+str(x[i])\n",
        "        return sum\n",
        "\n",
        "\n"
      ],
      "execution_count": 59,
      "outputs": []
    },
    {
      "cell_type": "code",
      "metadata": {
        "id": "Y65BHB49V_hi"
      },
      "source": [
        "class Solution:\n",
        "    def countAndSay(self, n: int) -> str:\n",
        "        x =\"1\"\n",
        "        \n",
        "        for i in range(n-1):\n",
        "            temp=\"\"\n",
        "            \n",
        "            s=0\n",
        "            for j in range(len(x)):\n",
        "                k=0\n",
        "                while k+j+s<len(x) and x[k+j+s]==x[j+s]:\n",
        "                    k=k+1\n",
        "                temp=temp+str(k)+x[j+s]\n",
        "                \n",
        "                                \n",
        "                if k+j+s==len(x):\n",
        "                    x = temp\n",
        "                    break\n",
        "                s=s+k-1\n",
        "\n",
        "        return x"
      ],
      "execution_count": 75,
      "outputs": []
    },
    {
      "cell_type": "code",
      "metadata": {
        "id": "-Ao6sa2ojsP6"
      },
      "source": [
        "class Solution:\n",
        "    def countAndSay(self, n: int) -> str:\n",
        "        x =\"1\"        \n",
        "        for i in range(n-1):\n",
        "            temp=\"\"\n",
        "            start=0\n",
        "            end=0\n",
        "            while end<len(x):\n",
        "                while end<len(x) and x[start]==x[end]:\n",
        "                    end+=1\n",
        "                temp=temp+str(end-start)+x[start]\n",
        "                start=end\n",
        "            x=temp\n",
        "\n",
        "        return x"
      ],
      "execution_count": 79,
      "outputs": []
    },
    {
      "cell_type": "code",
      "metadata": {
        "colab": {
          "base_uri": "https://localhost:8080/"
        },
        "id": "lU8tKMhSV1no",
        "outputId": "180b31b8-7e43-4721-c199-2d3cfe265933"
      },
      "source": [
        "print(Solution().countAndSay(5))"
      ],
      "execution_count": 80,
      "outputs": [
        {
          "output_type": "stream",
          "text": [
            "111221\n"
          ],
          "name": "stdout"
        }
      ]
    },
    {
      "cell_type": "code",
      "metadata": {
        "id": "RQkfVKHfjmIj"
      },
      "source": [
        "x=\"111222\""
      ],
      "execution_count": 67,
      "outputs": []
    },
    {
      "cell_type": "code",
      "metadata": {
        "id": "IoWRLdMFjnXg"
      },
      "source": [
        "temp=\"\""
      ],
      "execution_count": 68,
      "outputs": []
    },
    {
      "cell_type": "code",
      "metadata": {
        "id": "X_AxdweFjpQr"
      },
      "source": [
        "temp=temp+x[1]"
      ],
      "execution_count": 69,
      "outputs": []
    },
    {
      "cell_type": "code",
      "metadata": {
        "colab": {
          "base_uri": "https://localhost:8080/",
          "height": 35
        },
        "id": "0K1R3F_0jrMK",
        "outputId": "14f99a9d-dbdc-456d-e95a-dd4d108c603f"
      },
      "source": [
        "temp"
      ],
      "execution_count": 70,
      "outputs": [
        {
          "output_type": "execute_result",
          "data": {
            "application/vnd.google.colaboratory.intrinsic+json": {
              "type": "string"
            },
            "text/plain": [
              "'1'"
            ]
          },
          "metadata": {
            "tags": []
          },
          "execution_count": 70
        }
      ]
    }
  ]
}