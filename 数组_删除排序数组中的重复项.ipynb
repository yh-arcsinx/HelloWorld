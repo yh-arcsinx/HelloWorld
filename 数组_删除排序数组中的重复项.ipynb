{
  "nbformat": 4,
  "nbformat_minor": 0,
  "metadata": {
    "colab": {
      "name": "数组.删除排序数组中的重复项.ipynb",
      "provenance": [],
      "authorship_tag": "ABX9TyOn75eFiQvW7GMhWHvVDZBW",
      "include_colab_link": true
    },
    "kernelspec": {
      "name": "python3",
      "display_name": "Python 3"
    },
    "language_info": {
      "name": "python"
    }
  },
  "cells": [
    {
      "cell_type": "markdown",
      "metadata": {
        "id": "view-in-github",
        "colab_type": "text"
      },
      "source": [
        "<a href=\"https://colab.research.google.com/github/yh-arcsinx/Primary-Algorithm/blob/master/%E6%95%B0%E7%BB%84_%E5%88%A0%E9%99%A4%E6%8E%92%E5%BA%8F%E6%95%B0%E7%BB%84%E4%B8%AD%E7%9A%84%E9%87%8D%E5%A4%8D%E9%A1%B9.ipynb\" target=\"_parent\"><img src=\"https://colab.research.google.com/assets/colab-badge.svg\" alt=\"Open In Colab\"/></a>"
      ]
    },
    {
      "cell_type": "code",
      "metadata": {
        "id": "Ls4xsmZAQzOs"
      },
      "source": [
        "from typing import List\n",
        "\"\"\" List中 用的是nums的位置 也是在nums上面基础上修改的，所以会出现原函数一起改了的情况。\n",
        "所以我们用后面一种方法可以不改变原函数，python就是个贴标签的\n",
        "\"\"\"\n",
        "class Solution:\n",
        "    def removeDuplicates(self, nums: List[int]) -> int:\n",
        "        x = len(nums)\n",
        "        j = nums\n",
        "        if x==0 or nums == None:\n",
        "            return 0\n",
        "        for i in range(x-1):\n",
        "            if j[x-2-i]== j[x-i-1]:\n",
        "                del j[x-i-2]\n",
        "        return j\n"
      ],
      "execution_count": null,
      "outputs": []
    },
    {
      "cell_type": "code",
      "metadata": {
        "id": "ONitM3kGfp-V"
      },
      "source": [
        ""
      ],
      "execution_count": null,
      "outputs": []
    },
    {
      "cell_type": "code",
      "metadata": {
        "id": "m7VdHC_jRjf9"
      },
      "source": [
        "from typing import List\n",
        "\"\"\"这个就是新的一组数 不改变原标签的\n",
        "    \"\"\"\n",
        "class Solution:\n",
        "    def removeDuplicates(self, nums: List[int]) -> int:\n",
        "        x = len(nums)\n",
        "        k = []\n",
        "        if x==0 or nums == None:\n",
        "            return 0\n",
        "        for i in range(x-1):\n",
        "            if nums[x-2-i]!= nums[x-i-1]:\n",
        "                k.append(nums[x-2-i])\n",
        "        return k"
      ],
      "execution_count": null,
      "outputs": []
    },
    {
      "cell_type": "code",
      "metadata": {
        "id": "CsAuY7BqVioD"
      },
      "source": [
        "from typing import List\n",
        "\"\"\" List中 用的是nums的位置 也是在nums上面基础上修改的，所以会出现原函数一起改了的情况。\n",
        "所以我们用后面一种方法可以不改变原函数，python就是个贴标签的\n",
        "\"\"\"\n",
        "class Solution:\n",
        "    def removeDuplicates(self, nums: List[int]) -> int:\n",
        "        x = len(nums)\n",
        "        \n",
        "        if x==0 or nums == None:\n",
        "            return 0\n",
        "        j = 0\n",
        "        for i in range(x-1):\n",
        "            if nums[j] != nums[i+1]:\n",
        "                j += 1\n",
        "                nums[j] = nums[i+1]\n",
        "            \n",
        "\n",
        "        return j\n"
      ],
      "execution_count": null,
      "outputs": []
    },
    {
      "cell_type": "code",
      "metadata": {
        "id": "qH4bpzzZYPMM"
      },
      "source": [
        "class Solution:\n",
        "    def removeDuplicates(self, nums: List[int]) -> int:\n",
        "        #双指针\n",
        "        left = 0\n",
        "        \n",
        "        for i in range(1,len(nums)):\n",
        "            if nums[left] != nums[i]:\n",
        "                left = left + 1\n",
        "                nums[left] = nums[i]\n",
        "\n",
        "        return nums"
      ],
      "execution_count": null,
      "outputs": []
    },
    {
      "cell_type": "code",
      "metadata": {
        "colab": {
          "base_uri": "https://localhost:8080/"
        },
        "id": "UjnO3LGYRFr7",
        "outputId": "2a634446-c3bb-4cac-89db-77350aceedef"
      },
      "source": [
        "\n",
        "a = [1,1,1,2,3,4,4,4]\n",
        "b = [1,1,1,2,3,4,4,4]\n",
        "s = Solution()\n",
        "c = s.removeDuplicates(b)\n",
        "#print(s.removeDuplicates(a))\n",
        "print(\"a:\",a)\n",
        "print(\"b:\",b)\n",
        "print(\"c:\",c)\n"
      ],
      "execution_count": null,
      "outputs": [
        {
          "output_type": "stream",
          "text": [
            "a: [1, 1, 1, 2, 3, 4, 4, 4]\n",
            "b: [1, 2, 3, 4, 3, 4, 4, 4]\n",
            "c: [1, 2, 3, 4, 3, 4, 4, 4]\n"
          ],
          "name": "stdout"
        }
      ]
    }
  ]
}