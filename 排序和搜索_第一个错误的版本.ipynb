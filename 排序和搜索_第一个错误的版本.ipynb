{
  "nbformat": 4,
  "nbformat_minor": 0,
  "metadata": {
    "colab": {
      "name": "链表.第一个错误的版本.ipynb",
      "provenance": [],
      "collapsed_sections": [],
      "authorship_tag": "ABX9TyNSieoc+NecoUCHMynGGLs2",
      "include_colab_link": true
    },
    "kernelspec": {
      "name": "python3",
      "display_name": "Python 3"
    },
    "language_info": {
      "name": "python"
    }
  },
  "cells": [
    {
      "cell_type": "markdown",
      "metadata": {
        "id": "view-in-github",
        "colab_type": "text"
      },
      "source": [
        "<a href=\"https://colab.research.google.com/github/yh-arcsinx/Primary-Algorithm/blob/master/%E6%8E%92%E5%BA%8F%E5%92%8C%E6%90%9C%E7%B4%A2_%E7%AC%AC%E4%B8%80%E4%B8%AA%E9%94%99%E8%AF%AF%E7%9A%84%E7%89%88%E6%9C%AC.ipynb\" target=\"_parent\"><img src=\"https://colab.research.google.com/assets/colab-badge.svg\" alt=\"Open In Colab\"/></a>"
      ]
    },
    {
      "cell_type": "code",
      "metadata": {
        "id": "jhr6QoqRsIb2"
      },
      "source": [
        "# The isBadVersion API is already defined for you.\n",
        "# @param version, an integer\n",
        "# @return an integer\n",
        "# def isBadVersion(version):\n",
        "\n",
        "class Solution:\n",
        "    def firstBadVersion(self, n):\n",
        "        \"\"\"\n",
        "        :type n: int\n",
        "        :rtype: int\n",
        "        \"\"\"\n",
        "        start=1\n",
        "        end=n\n",
        "        while start<end:\n",
        "            i=(start+end)//2\n",
        "            if isBadVersion(i):\n",
        "                end = i\n",
        "            else: \n",
        "                start =i+1\n",
        "        return start \n",
        "           "
      ],
      "execution_count": null,
      "outputs": []
    }
  ]
}