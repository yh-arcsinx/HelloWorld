{
  "nbformat": 4,
  "nbformat_minor": 0,
  "metadata": {
    "colab": {
      "name": "链表.删除链表的倒数第N个节点.ipynb",
      "provenance": [],
      "collapsed_sections": [],
      "authorship_tag": "ABX9TyNuIMx3geRK9Acg3X9Enad5",
      "include_colab_link": true
    },
    "kernelspec": {
      "name": "python3",
      "display_name": "Python 3"
    },
    "language_info": {
      "name": "python"
    }
  },
  "cells": [
    {
      "cell_type": "markdown",
      "metadata": {
        "id": "view-in-github",
        "colab_type": "text"
      },
      "source": [
        "<a href=\"https://colab.research.google.com/github/yh-arcsinx/Primary-Algorithm/blob/master/%E9%93%BE%E8%A1%A8_%E5%88%A0%E9%99%A4%E9%93%BE%E8%A1%A8%E7%9A%84%E5%80%92%E6%95%B0%E7%AC%ACN%E4%B8%AA%E8%8A%82%E7%82%B9.ipynb\" target=\"_parent\"><img src=\"https://colab.research.google.com/assets/colab-badge.svg\" alt=\"Open In Colab\"/></a>"
      ]
    },
    {
      "cell_type": "code",
      "metadata": {
        "id": "MJCKlRrCKeAD"
      },
      "source": [
        "# Definition for singly-linked list.\n",
        "# class ListNode:\n",
        "#     def __init__(self, val=0, next=None):\n",
        "#         self.val = val\n",
        "#         self.next = next\n",
        "class Solution:\n",
        "    def removeNthFromEnd(self, head: ListNode, n: int) -> ListNode:\n",
        "        temp =head\n",
        "        nums=0\n",
        "        while temp:\n",
        "            nums+=1\n",
        "            temp=temp.next\n",
        "        temp =ListNode(0,head)\n",
        "        cur = temp    \n",
        "        for i in range(0,nums-n):\n",
        "\n",
        "            cur=cur.next\n",
        "        cur.next=cur.next.next\n",
        "        return temp.next\n"
      ],
      "execution_count": null,
      "outputs": []
    },
    {
      "cell_type": "code",
      "metadata": {
        "id": "ZsDRKF5ALyaW"
      },
      "source": [
        "# Definition for singly-linked list.\n",
        "# class ListNode:\n",
        "#     def __init__(self, val=0, next=None):\n",
        "#         self.val = val\n",
        "#         self.next = next\n",
        "class Solution:\n",
        "    def removeNthFromEnd(self, head: ListNode, n: int) -> ListNode:\n",
        "        dummy=ListNode(0,head)\n",
        "        first =dummy\n",
        "        second=first\n",
        "        for i in range(n+1):\n",
        "            first=first.next\n",
        "        while first:\n",
        "            first=first.next\n",
        "            second=second.next\n",
        "        second.next=second.next.next\n",
        "        return dummy.next\n"
      ],
      "execution_count": null,
      "outputs": []
    }
  ]
}